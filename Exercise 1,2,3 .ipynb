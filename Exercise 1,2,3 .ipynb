{
 "cells": [
  {
   "cell_type": "code",
   "execution_count": 1,
   "id": "e236fd10-5d5a-445d-8677-970d81efca06",
   "metadata": {},
   "outputs": [
    {
     "name": "stdout",
     "output_type": "stream",
     "text": [
      "Requirement already satisfied: opencv-python in c:\\users\\e175932\\anaconda3\\lib\\site-packages (4.6.0.66)\n",
      "Requirement already satisfied: numpy>=1.14.5 in c:\\users\\e175932\\appdata\\roaming\\python\\python38\\site-packages (from opencv-python) (1.22.4)\n"
     ]
    }
   ],
   "source": [
    "!pip install opencv-python"
   ]
  },
  {
   "cell_type": "code",
   "execution_count": 2,
   "id": "c42d3e6d-9a3e-425b-bcff-08fca164446d",
   "metadata": {},
   "outputs": [],
   "source": [
    "import cv2"
   ]
  },
  {
   "cell_type": "code",
   "execution_count": 3,
   "id": "d22dfe92-55ef-4a3f-93d5-79287d9cf522",
   "metadata": {},
   "outputs": [],
   "source": [
    "# exercise 1, change camera to grey color\n",
    "camera_id = 0\n",
    "our_vid = cv2.VideoCapture(camera_id)\n",
    "\n",
    "while True:\n",
    "    net, frame  = our_vid.read()\n",
    "    if net:\n",
    "        frame = cv2.cvtColor(frame, cv2.COLOR_BGR2GRAY)\n",
    "        cv2.imshow(\"exercise 1\", frame)\n",
    "    if cv2.waitKey(1) == ord('q'):\n",
    "        break\n",
    "our_vid.release()\n",
    "cv2.destroyAllWindows()\n",
    "    "
   ]
  },
  {
   "cell_type": "code",
   "execution_count": 4,
   "id": "9fcd65fa-60b7-4cb0-bf2a-55a96f340f5e",
   "metadata": {},
   "outputs": [
    {
     "name": "stdout",
     "output_type": "stream",
     "text": [
      "Collecting imutils\n",
      "  Downloading imutils-0.5.4.tar.gz (17 kB)\n",
      "Building wheels for collected packages: imutils\n",
      "  Building wheel for imutils (setup.py): started\n",
      "  Building wheel for imutils (setup.py): finished with status 'done'\n",
      "  Created wheel for imutils: filename=imutils-0.5.4-py3-none-any.whl size=25860 sha256=adcd4052b584437f507b7a046e2fd545861e77162fe1ad53ef341afbe65641ad\n",
      "  Stored in directory: c:\\users\\e175932\\appdata\\local\\pip\\cache\\wheels\\59\\1b\\52\\0dea905f8278d5514dc4d0be5e251967f8681670cadd3dca89\n",
      "Successfully built imutils\n",
      "Installing collected packages: imutils\n",
      "Successfully installed imutils-0.5.4\n",
      "Note: you may need to restart the kernel to use updated packages.\n"
     ]
    }
   ],
   "source": [
    "#pip install imutils"
   ]
  },
  {
   "cell_type": "code",
   "execution_count": 6,
   "id": "ff656765-6601-44b9-b831-4cbc980da842",
   "metadata": {},
   "outputs": [],
   "source": [
    "# Exercise 2: open camera, press a to rotate 90 degree, press d to rotate -90 degree, press q to quit \n",
    "import imutils\n",
    "\n",
    "camera_id = 0\n",
    "our_vid = cv2.VideoCapture(camera_id)\n",
    "rotate = 0\n",
    "while True:\n",
    "    net, frame  = our_vid.read()\n",
    "    if net:\n",
    "        if rotate != 0:\n",
    "            frame = imutils.rotate(frame, rotate)\n",
    "        cv2.imshow(\"exercise 2\", frame)\n",
    "    key = cv2.waitKey(1)\n",
    "    if key == ord('q'):\n",
    "        break\n",
    "    elif key == ord('a'):\n",
    "        rotate = 90\n",
    "    elif key == ord('d'):\n",
    "        rotate = 270\n",
    "    elif key == ord('b'):\n",
    "        rotate = 0\n",
    "our_vid.release()\n",
    "cv2.destroyAllWindows()"
   ]
  },
  {
   "cell_type": "code",
   "execution_count": 9,
   "id": "8fb9f654-aef1-476f-8e14-bc47ef1cd74c",
   "metadata": {},
   "outputs": [],
   "source": [
    "#Exercise 3\n",
    "face_cascade = cv2.CascadeClassifier('haarcascade_frontalface_default.xml')\n",
    "def save_face(frame, faces):\n",
    "    i = 0 \n",
    "    for (x,y,w,h) in faces:\n",
    "        i += 1\n",
    "        crop = frame[y:y + h, x:x+w]\n",
    "        cv2.rectangle(img, (x,y),  (x + w, y + h), (255, 0, 0), 2)\n",
    "        cv2.imwrite(\"file{}.png\".format(i), crop)\n",
    "    return\n",
    "\n",
    "camera = cv2.VideoCapture(0)\n",
    "\n",
    "while True:\n",
    "    ret, img = camera.read()\n",
    "    if net:\n",
    "        #change to gray\n",
    "        gray = cv2.cvtColor(img, cv2.COLOR_BGR2GRAY)\n",
    "        faces = face_cascade.detectMultiScale(gray, 1.2, 10, minSize = (100,100))\n",
    "        \n",
    "        for (x,y,w,h) in faces:\n",
    "            cv2.rectangle(img, (x,y), (x + w, y + h), (255, 0, 0), 2)\n",
    "            qroi_color = img[y:y + h, x:x + w]\n",
    "        cv2.imshow( \"picture\", img)\n",
    "    key = cv2.waitKey(1)\n",
    "    if key == ord('q'):\n",
    "        break\n",
    "    elif key == ord('s'):\n",
    "        save_face(img, faces)\n",
    "\n",
    "camera.release()\n",
    "cv2.destroyAllWindows()"
   ]
  },
  {
   "cell_type": "code",
   "execution_count": null,
   "id": "c5345aff-4a39-4e63-b2b6-9b8bb4936929",
   "metadata": {},
   "outputs": [],
   "source": []
  },
  {
   "cell_type": "code",
   "execution_count": null,
   "id": "16f58d4d-74f2-4753-8a1d-fbbb5115cc62",
   "metadata": {},
   "outputs": [],
   "source": []
  },
  {
   "cell_type": "code",
   "execution_count": null,
   "id": "0c8e7279-8c0f-42c7-9164-b4ceefce6d80",
   "metadata": {},
   "outputs": [],
   "source": []
  }
 ],
 "metadata": {
  "kernelspec": {
   "display_name": "Python 3",
   "language": "python",
   "name": "python3"
  },
  "language_info": {
   "codemirror_mode": {
    "name": "ipython",
    "version": 3
   },
   "file_extension": ".py",
   "mimetype": "text/x-python",
   "name": "python",
   "nbconvert_exporter": "python",
   "pygments_lexer": "ipython3",
   "version": "3.8.8"
  }
 },
 "nbformat": 4,
 "nbformat_minor": 5
}
